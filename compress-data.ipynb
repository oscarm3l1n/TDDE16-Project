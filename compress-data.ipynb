{
 "cells": [
  {
   "cell_type": "code",
   "execution_count": 1,
   "id": "721b4873",
   "metadata": {},
   "outputs": [
    {
     "name": "stdout",
     "output_type": "stream",
     "text": [
      "12725\n",
      "13777\n",
      "11578\n",
      "12139\n"
     ]
    }
   ],
   "source": [
    "import os\n",
    "for folder in ['anforande-201617.json', 'anforande-201516.json','anforande-201112.json', 'anforande-201213.json']:\n",
    "    path = os.path.join(os.getcwd(), folder)\n",
    "    \n",
    "    print(len(os.listdir(path)))\n"
   ]
  },
  {
   "cell_type": "code",
   "execution_count": 2,
   "id": "25871d19",
   "metadata": {},
   "outputs": [],
   "source": [
    "import os\n",
    "import json\n",
    "import pandas as pd\n",
    "import gzip\n",
    "import codecs\n",
    "\n",
    "def compress_and_export(folders):\n",
    "    # Initialize an empty list to store the dataframes\n",
    "    df_list = []\n",
    "    for folder in folders:\n",
    "        # Iterate over the files in the folder\n",
    "        folder = os.path.join(os.getcwd(), folder)\n",
    "\n",
    "        index = 0\n",
    "        for file in os.listdir(folder):\n",
    "            \n",
    "            # Check if the file is a JSON file\n",
    "            _, ext = os.path.splitext(file)\n",
    "            if ext == '.json':\n",
    "                # Read the data from the JSON file\n",
    "                with codecs.open(os.path.join(folder, file), 'r', encoding='utf-8-sig') as f:\n",
    "                    data = json.load(f)\n",
    "\n",
    "                data = data['anforande']\n",
    "                \n",
    "                if data['anforandetext'] is None:\n",
    "                    continue\n",
    "\n",
    "                data = {\n",
    "                    'document_id': data['dok_id'] + '-' + data['anforande_nummer'],\n",
    "                    'text': data['anforandetext'],\n",
    "                    'party': data['parti'],\n",
    "                    'year': data['dok_rm'],\n",
    "                    'date': data['dok_datum'].split()[0]\n",
    "                }\n",
    "\n",
    "                # Convert the data to a dataframe\n",
    "                tmp_idx = [index]\n",
    "                df = pd.DataFrame(data, index=tmp_idx)\n",
    "                index += 1\n",
    "\n",
    "                # Append the dataframe to the list\n",
    "                df_list.append(df)\n",
    "\n",
    "        # Concatenate all of the dataframes into a single dataframe\n",
    "    df = pd.concat(df_list, ignore_index=True)\n",
    "\n",
    "    with gzip.open('speeches-full.json.gz', 'wt') as f:\n",
    "        # Write the dataframe to the file in JSON format\n",
    "        f.write(df.to_json(orient='records', lines=True))\n",
    "            \n"
   ]
  },
  {
   "cell_type": "code",
   "execution_count": 3,
   "id": "343aba90",
   "metadata": {},
   "outputs": [],
   "source": [
    "compress_and_export([\n",
    "    'anforande-201112.json',\n",
    "    'anforande-201213.json',\n",
    "    'anforande-201314.json',\n",
    "    'anforande-201415.json',\n",
    "    'anforande-201516.json',\n",
    "    'anforande-201617.json'\n",
    "])"
   ]
  },
  {
   "cell_type": "code",
   "execution_count": null,
   "id": "0054ff7c",
   "metadata": {},
   "outputs": [],
   "source": []
  }
 ],
 "metadata": {
  "kernelspec": {
   "display_name": "Python 3 (ipykernel)",
   "language": "python",
   "name": "python3"
  },
  "language_info": {
   "codemirror_mode": {
    "name": "ipython",
    "version": 3
   },
   "file_extension": ".py",
   "mimetype": "text/x-python",
   "name": "python",
   "nbconvert_exporter": "python",
   "pygments_lexer": "ipython3",
   "version": "3.9.15"
  }
 },
 "nbformat": 4,
 "nbformat_minor": 5
}
